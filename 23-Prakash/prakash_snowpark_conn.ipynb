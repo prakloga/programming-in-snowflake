{
 "cells": [
  {
   "cell_type": "code",
   "execution_count": 1,
   "metadata": {},
   "outputs": [],
   "source": [
    "from __future__ import annotations # is a feature that allows for postponed evaluation of type annotations. \n",
    "#This means that the annotations won't be evaluated at the time of function or class definition but rather when they're actually needed, such as at runtime or when using tools that analyze type hints.\n",
    "from snowflake.snowpark.session import Session \n",
    "from snowflake.snowpark import DataFrame \n",
    "from snowflake.snowpark.functions import col\n",
    "import json"
   ]
  },
  {
   "cell_type": "code",
   "execution_count": 2,
   "metadata": {},
   "outputs": [],
   "source": [
    "session = Session.builder.configs(json.load(open(\"/Users/pl157r/.snowsql/connection.json\"))).create()"
   ]
  },
  {
   "cell_type": "code",
   "execution_count": 3,
   "metadata": {},
   "outputs": [
    {
     "name": "stdout",
     "output_type": "stream",
     "text": [
      "------------------------\n",
      "|\"CURRENT_DATABASE()\"  |\n",
      "------------------------\n",
      "|DEMO_DB               |\n",
      "------------------------\n",
      "\n"
     ]
    }
   ],
   "source": [
    "session.sql(\"select current_database()\").show()"
   ]
  },
  {
   "cell_type": "code",
   "execution_count": 4,
   "metadata": {},
   "outputs": [],
   "source": [
    "session.close()"
   ]
  }
 ],
 "metadata": {
  "kernelspec": {
   "display_name": "snowpark310_env",
   "language": "python",
   "name": "python3"
  },
  "language_info": {
   "codemirror_mode": {
    "name": "ipython",
    "version": 3
   },
   "file_extension": ".py",
   "mimetype": "text/x-python",
   "name": "python",
   "nbconvert_exporter": "python",
   "pygments_lexer": "ipython3",
   "version": "3.10.14"
  }
 },
 "nbformat": 4,
 "nbformat_minor": 2
}
